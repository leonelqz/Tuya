{
 "cells": [
  {
   "cell_type": "markdown",
   "id": "3a7faba0",
   "metadata": {
    "vscode": {
     "languageId": "plaintext"
    }
   },
   "source": [
    "## Punto 1"
   ]
  },
  {
   "cell_type": "code",
   "execution_count": 12,
   "id": "2c8fe3f8",
   "metadata": {},
   "outputs": [],
   "source": [
    "from html.parser import HTMLParser"
   ]
  },
  {
   "cell_type": "code",
   "execution_count": null,
   "id": "5df04815",
   "metadata": {},
   "outputs": [],
   "source": []
  },
  {
   "cell_type": "code",
   "execution_count": null,
   "id": "2fecb9c4",
   "metadata": {},
   "outputs": [],
   "source": []
  },
  {
   "cell_type": "markdown",
   "id": "bebc426e",
   "metadata": {
    "vscode": {
     "languageId": "plaintext"
    }
   },
   "source": [
    "## Punto 2"
   ]
  },
  {
   "cell_type": "code",
   "execution_count": 1,
   "id": "98e96d9e",
   "metadata": {},
   "outputs": [],
   "source": [
    "import duckdb\n",
    "import pandas as pd\n",
    "import sqlite3"
   ]
  },
  {
   "cell_type": "code",
   "execution_count": 4,
   "id": "1efb245c",
   "metadata": {},
   "outputs": [
    {
     "data": {
      "text/plain": [
       "IDENTIFICACION        object\n",
       "ID_TRANSACCION         int64\n",
       "FECHA_TRANSACCION     object\n",
       "CODIGO_CATEGORIA       int64\n",
       "ESTADO                object\n",
       "VALOR_COMPRA         float64\n",
       "dtype: object"
      ]
     },
     "execution_count": 4,
     "metadata": {},
     "output_type": "execute_result"
    }
   ],
   "source": [
    "## Cargo tablas en memoria\n",
    "\n",
    "df = pd.read_excel(\"bd.xlsx\", sheet_name=None)\n",
    "\n",
    "clientes = df[\"CLIENTES\"]\n",
    "transac = df[\"TRANSACCIONES\"]\n",
    "cat_consumo = df[\"CATEGORIAS_CONSUMO\"]\n",
    "\n",
    "transac.dtypes"
   ]
  },
  {
   "cell_type": "code",
   "execution_count": 5,
   "id": "b16badde",
   "metadata": {},
   "outputs": [
    {
     "data": {
      "text/plain": [
       "IDENTIFICACION               object\n",
       "ID_TRANSACCION                int64\n",
       "FECHA_TRANSACCION    datetime64[ns]\n",
       "CODIGO_CATEGORIA              int64\n",
       "ESTADO                       object\n",
       "VALOR_COMPRA                float64\n",
       "dtype: object"
      ]
     },
     "execution_count": 5,
     "metadata": {},
     "output_type": "execute_result"
    }
   ],
   "source": [
    "## Casteo fecha\n",
    "\n",
    "transac[\"FECHA_TRANSACCION\"] = pd.to_datetime(transac[\"FECHA_TRANSACCION\"], yearfirst=True )\n",
    "transac.dtypes"
   ]
  },
  {
   "cell_type": "code",
   "execution_count": 6,
   "id": "dc7119f6",
   "metadata": {},
   "outputs": [
    {
     "data": {
      "text/plain": [
       "60"
      ]
     },
     "execution_count": 6,
     "metadata": {},
     "output_type": "execute_result"
    }
   ],
   "source": [
    "## Envio tablas a la db\n",
    "\n",
    "conn = sqlite3.connect(\"db_tuya.db\")\n",
    "\n",
    "clientes.to_sql(\"clientes\", conn, index=False)\n",
    "transac.to_sql(\"transacciones\", conn, index=False)\n",
    "cat_consumo.to_sql(\"categorias_consumo\", conn, index=False)"
   ]
  },
  {
   "cell_type": "code",
   "execution_count": null,
   "id": "6668f81b",
   "metadata": {},
   "outputs": [],
   "source": [
    "# Cito textual del enunciado: \"Categoría de consumo preferida dentro de cada cadena\"\n",
    "\n",
    "## VOY A SUPONER QUE CON \"CADENA\" SE REFIEREN A CIUDAD PUESTO QUE NO HAY OTRA COSA CON QUE ASOCIAR\n",
    "# UNA MISMA CATEGORIA EN LA TABLA \"CATEGORIAS_CONSUMO\""
   ]
  },
  {
   "cell_type": "code",
   "execution_count": null,
   "id": "bfe95892",
   "metadata": {},
   "outputs": [
    {
     "data": {
      "text/plain": [
       "┌───────────────────┬──────────────────┬──────────┬─────────────────────┐\n",
       "│  IDENTIFICACION   │ NOMBRE_CATEGORIA │  CIUDAD  │   Ultima_transac    │\n",
       "│      varchar      │     varchar      │ varchar  │    timestamp_ns     │\n",
       "├───────────────────┼──────────────────┼──────────┼─────────────────────┤\n",
       "│ 2I3J4K5L6M7N8O9P0 │ Ropa             │ Medellín │ 2020-09-10 00:00:00 │\n",
       "│ 2G3H4I5J6K7L8M9N0 │ Belleza          │ Medellín │ 2020-11-05 00:00:00 │\n",
       "│ 2Q3R4S5T6U7V8W9X0 │ Mascotas         │ Medellín │ 2015-09-15 00:00:00 │\n",
       "│ 2Y3Z4A5B6C7D8E9F0 │ Mascotas         │ Bogotá   │ 2009-11-25 00:00:00 │\n",
       "│ 2G3H4I5J6K7L8M9N0 │ Automotriz       │ Bogotá   │ 2019-09-25 00:00:00 │\n",
       "│ 2K3L4M5N6O7P8Q9R0 │ Belleza          │ Cali     │ 2023-03-05 00:00:00 │\n",
       "│ 2A3B4C5D6E7F8G9H0 │ Libros           │ Cali     │ 2014-09-10 00:00:00 │\n",
       "│ 2Y3Z4A5B6C7D8E9F0 │ Música           │ Cali     │ 2006-11-10 00:00:00 │\n",
       "└───────────────────┴──────────────────┴──────────┴─────────────────────┘"
      ]
     },
     "execution_count": 7,
     "metadata": {},
     "output_type": "execute_result"
    }
   ],
   "source": [
    "## Todas las consultas juntas\n",
    "\n",
    "duckdb.sql(\"\"\"\n",
    "WITH ventana_fecha_max AS (\n",
    "    SELECT IDENTIFICACION, CODIGO_CATEGORIA, FECHA_TRANSACCION, MAX(FECHA_TRANSACCION) OVER(\n",
    "        PARTITION BY IDENTIFICACION, CODIGO_CATEGORIA\n",
    "    ) AS Ultima_transac\n",
    "    FROM transac\n",
    "),\n",
    "\n",
    "prefer_cliente AS (\n",
    "    SELECT IDENTIFICACION, CODIGO_CATEGORIA, Ultima_transac, COUNT(*) AS Cantidad_transac\n",
    "    FROM ventana_fecha_max\n",
    "    GROUP BY IDENTIFICACION, CODIGO_CATEGORIA, Ultima_transac\n",
    "),\n",
    "\n",
    "cols_necesarias AS (\n",
    "    SELECT IDENTIFICACION, NOMBRE_CATEGORIA, CIUDAD, Cantidad_transac, Ultima_transac\n",
    "    FROM prefer_cliente p\n",
    "    JOIN cat_consumo c\n",
    "    ON p.CODIGO_CATEGORIA = c.CODIGO_CATEGORIA\n",
    "),\n",
    "\n",
    "rankeo AS (\n",
    "    SELECT *, DENSE_RANK() OVER (\n",
    "        PARTITION BY CIUDAD\n",
    "        ORDER BY Cantidad_transac DESC\n",
    "        ) AS Rank\n",
    "    FROM cols_necesarias\n",
    ")\n",
    "\n",
    "\n",
    "SELECT IDENTIFICACION, NOMBRE_CATEGORIA, CIUDAD, Ultima_transac\n",
    "FROM rankeo\n",
    "WHERE Rank = 1\n",
    "\n",
    "\"\"\")\n",
    "\n",
    "# Solo se debe cambiar en el where el \"Rank\"\n",
    "# Rank=1 para primeras preferidas, Rank=2 para segundas preferidas..."
   ]
  },
  {
   "cell_type": "code",
   "execution_count": null,
   "id": "6e933993",
   "metadata": {},
   "outputs": [],
   "source": []
  },
  {
   "cell_type": "markdown",
   "id": "37909090",
   "metadata": {
    "vscode": {
     "languageId": "plaintext"
    }
   },
   "source": [
    "## Punto 3"
   ]
  },
  {
   "cell_type": "code",
   "execution_count": null,
   "id": "a003e77d",
   "metadata": {},
   "outputs": [],
   "source": [
    "## Cargo tablas en memoria\n",
    "\n",
    "dic = pd.read_excel(\"rachas.xlsx\", sheet_name=None)\n",
    "\n",
    "retiros = dic[\"retiros\"]\n",
    "historia = dic[\"historia\"]"
   ]
  },
  {
   "cell_type": "code",
   "execution_count": 7,
   "id": "246cbcd9",
   "metadata": {},
   "outputs": [
    {
     "data": {
      "text/plain": [
       "identificacion            object\n",
       "fecha_retiro      datetime64[ns]\n",
       "dtype: object"
      ]
     },
     "execution_count": 7,
     "metadata": {},
     "output_type": "execute_result"
    }
   ],
   "source": [
    "retiros.dtypes"
   ]
  },
  {
   "cell_type": "code",
   "execution_count": 8,
   "id": "c14422a4",
   "metadata": {},
   "outputs": [
    {
     "data": {
      "text/plain": [
       "identificacion            object\n",
       "corte_mes         datetime64[ns]\n",
       "saldo                      int64\n",
       "dtype: object"
      ]
     },
     "execution_count": 8,
     "metadata": {},
     "output_type": "execute_result"
    }
   ],
   "source": [
    "historia.dtypes"
   ]
  },
  {
   "cell_type": "code",
   "execution_count": null,
   "id": "829877b3",
   "metadata": {},
   "outputs": [
    {
     "data": {
      "text/plain": [
       "2925"
      ]
     },
     "execution_count": 11,
     "metadata": {},
     "output_type": "execute_result"
    }
   ],
   "source": [
    "## Envio las tablas a la db\n",
    "\n",
    "retiros.to_sql(\"retiros\", conn, index=False)\n",
    "historia.to_sql(\"historia\", conn, index=False)"
   ]
  },
  {
   "cell_type": "code",
   "execution_count": null,
   "id": "2a62c3d8",
   "metadata": {},
   "outputs": [
    {
     "data": {
      "text/plain": [
       "┌───────────────────┬───────┬─────────────────────┬─────────┐\n",
       "│  identificacion   │ racha │      fecha_fin      │  nivel  │\n",
       "│      varchar      │ int64 │    timestamp_ns     │ varchar │\n",
       "├───────────────────┼───────┼─────────────────────┼─────────┤\n",
       "│ 09SYGN7IXDQV5X9IP │     7 │ 2023-07-31 00:00:00 │ N0      │\n",
       "│ 0TQ17VI65FDDKT227 │     6 │ 2024-04-30 00:00:00 │ N0      │\n",
       "│ 3QWPW0GFU2JIA5UE4 │     8 │ 2023-08-31 00:00:00 │ N0      │\n",
       "│ 9NWFWJ38XN31WBFXG │     1 │ 2024-12-31 00:00:00 │ N3      │\n",
       "│ 9NWFWJ38XN31WBFXG │     5 │ 2024-01-31 00:00:00 │ N0      │\n",
       "│ A4JYPUIFCGXQSH8XL │    19 │ 2024-07-31 00:00:00 │ N0      │\n",
       "│ AXH5M6W00RW6A1MRV │     7 │ 2024-08-31 00:00:00 │ N0      │\n",
       "│ DLRDFJ40BGVP9H10W │     5 │ 2023-07-31 00:00:00 │ N0      │\n",
       "│ F5AUCVPQMIXFMLKNY │    11 │ 2024-12-31 00:00:00 │ N0      │\n",
       "│ FA2OC6FGIMI4S37PU │    11 │ 2024-06-30 00:00:00 │ N0      │\n",
       "│         ·         │     · │          ·          │ ·       │\n",
       "│         ·         │     · │          ·          │ ·       │\n",
       "│         ·         │     · │          ·          │ ·       │\n",
       "│ XYYJ1CS2J4N0KXRG2 │    10 │ 2023-10-31 00:00:00 │ N0      │\n",
       "│ 7MQU99ZO49YXI2EDE │    18 │ 2024-09-30 00:00:00 │ N0      │\n",
       "│ BJSA6PK9IP3QNY0GU │    13 │ 2024-12-31 00:00:00 │ N0      │\n",
       "│ GFMBMLM8423RIAEDD │    15 │ 2024-06-30 00:00:00 │ N0      │\n",
       "│ IGOQX9XYBSRDMOZXT │    13 │ 2024-06-30 00:00:00 │ N0      │\n",
       "│ FDS0N1SJL1R9K1IB4 │    12 │ 2024-12-31 00:00:00 │ N0      │\n",
       "│ THJ9OBJH3W6ANRCMS │     8 │ 2023-08-31 00:00:00 │ N0      │\n",
       "│ 0TTW5R9RRCJ0A9E5F │     1 │ 2024-12-31 00:00:00 │ N2      │\n",
       "│ THJ9OBJH3W6ANRCMS │     3 │ 2024-05-31 00:00:00 │ N2      │\n",
       "│ 0TTW5R9RRCJ0A9E5F │     1 │ 2024-12-31 00:00:00 │ N1      │\n",
       "├───────────────────┴───────┴─────────────────────┴─────────┤\n",
       "│ 160 rows (20 shown)                             4 columns │\n",
       "└───────────────────────────────────────────────────────────┘"
      ]
     },
     "execution_count": 13,
     "metadata": {},
     "output_type": "execute_result"
    }
   ],
   "source": [
    "## Todas las consultas juntas\n",
    "\n",
    "duckdb.sql(\"\"\"\n",
    "WITH jn AS (\n",
    "    SELECT r.identificacion, corte_mes, saldo, fecha_retiro\n",
    "    FROM historia r\n",
    "    LEFT JOIN retiros h\n",
    "    ON r.identificacion = h.identificacion\n",
    "),\n",
    "    \n",
    "niveles AS (\n",
    "    SELECT identificacion, saldo, corte_mes, fecha_retiro, COUNT(*) OVER (\n",
    "        PARTITION BY identificacion, corte_mes\n",
    "    ) AS conteo,\n",
    "        CASE\n",
    "            WHEN conteo = 1 AND fecha_retiro IS NULL THEN 'N0'\n",
    "            WHEN conteo = 1 AND corte_mes <= fecha_retiro  THEN 'N0'\n",
    "            WHEN saldo < 300000  THEN 'N0'\n",
    "            WHEN saldo < 1000000  THEN 'N1'\n",
    "            WHEN saldo < 3000000  THEN 'N2'\n",
    "            WHEN saldo < 5000000  THEN 'N3'\n",
    "            ELSE 'N4'\n",
    "        END AS nivel\n",
    "    FROM jn\n",
    "),\n",
    "\n",
    "meses_consec AS (\n",
    "    SELECT identificacion, corte_mes, nivel, DATEDIFF('month', '1970-01-01', corte_mes)+ROW_NUMBER() OVER(\n",
    "        PARTITION BY identificacion, nivel\n",
    "        ORDER BY corte_mes DESC\n",
    "    ) AS consecutivo\n",
    "    FROM niveles\n",
    "),\n",
    "\n",
    "ventanas AS (\n",
    "    SELECT identificacion, nivel, corte_mes, COUNT(*)  OVER(\n",
    "        PARTITION BY identificacion, consecutivo, nivel\n",
    "    ) AS racha,\n",
    "    MAX(corte_mes) OVER(\n",
    "        PARTITION BY identificacion, consecutivo, nivel\n",
    "    ) AS fecha_fin\n",
    "    FROM meses_consec\n",
    ")\n",
    "\n",
    "\n",
    "\n",
    "SELECT identificacion, MAX(racha) AS racha,\n",
    "    (\n",
    "        SELECT fecha_fin\n",
    "        FROM ventanas sub\n",
    "        WHERE sub.identificacion = v.identificacion\n",
    "            AND sub.racha = MAX(v.racha)\n",
    "        ORDER BY fecha_fin DESC  -- SI LA RACHA MAS LARGA ESTA DUPLICADA... SE TOMA LA FECHA MAS RECIENTE\n",
    "        LIMIT 1\n",
    "    ) AS fecha_fin,\n",
    "    nivel\n",
    "    \n",
    "FROM ventanas v\n",
    "GROUP BY identificacion, nivel\n",
    "\n",
    "\"\"\")"
   ]
  },
  {
   "cell_type": "code",
   "execution_count": null,
   "id": "a62cb2cc",
   "metadata": {},
   "outputs": [],
   "source": []
  }
 ],
 "metadata": {
  "kernelspec": {
   "display_name": "Python 3",
   "language": "python",
   "name": "python3"
  },
  "language_info": {
   "codemirror_mode": {
    "name": "ipython",
    "version": 3
   },
   "file_extension": ".py",
   "mimetype": "text/x-python",
   "name": "python",
   "nbconvert_exporter": "python",
   "pygments_lexer": "ipython3",
   "version": "3.12.1"
  }
 },
 "nbformat": 4,
 "nbformat_minor": 5
}
